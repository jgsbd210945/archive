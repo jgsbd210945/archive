{
 "cells": [
  {
   "cell_type": "code",
   "execution_count": 3,
   "metadata": {},
   "outputs": [
    {
     "name": "stdout",
     "output_type": "stream",
     "text": [
      "For 73 cents change, I give\n",
      "2 quarters\n",
      "2 dimes\n",
      "0 nickels\n",
      "3 pennies\n"
     ]
    }
   ],
   "source": [
    "#Jason Gordon\n",
    "#PA3\n",
    "#24 September 2020\n",
    "\n",
    "def greedy1(total):\n",
    "    q=0\n",
    "    d=0\n",
    "    n=0\n",
    "    p=0\n",
    "    for a in range (0,5): #This is to check for quarters. Since the max input is 100, there can be up to four quarters.\n",
    "        if total >= 25:\n",
    "            total -= 25\n",
    "            q += 1\n",
    "    for b in range (0, 3): #This is to check for dimes. The max is two dimes because three dimes should instead be a quarter and a nickel.\n",
    "        if total >= 10:\n",
    "            total -= 10\n",
    "            d += 1\n",
    "    if total >= 5: #This is to check for nickels. There can only be one, for two nickels is one dime.\n",
    "        total -= 5\n",
    "        n += 1\n",
    "    for c in range (0, 5): #This is to check for pennies. The max is four, for five pennies is one nickel.\n",
    "        if total >= 1:\n",
    "            total -= 1\n",
    "            p += 1\n",
    "    printcoins1(q, d, n, p) #The total is now 0, so the q/d/n/p counters should be correct. These will correlate with the q/d/n/p variables in the next function.\n",
    "\n",
    "def printcoins1(q, d, n, p):\n",
    "    c=(25*q)+(10*d)+(5*n)+p #This is to reconstitute the amount of cents.\n",
    "    print(\"For\", c, \"cents change, I give\")\n",
    "    print(q, \"quarters\")\n",
    "    print(d, \"dimes\")\n",
    "    print(n, \"nickels\")\n",
    "    print(p, \"pennies\")\n",
    "\n",
    "greedy1(73) #Example input"
   ]
  },
  {
   "cell_type": "code",
   "execution_count": 4,
   "metadata": {},
   "outputs": [
    {
     "name": "stdout",
     "output_type": "stream",
     "text": [
      "For 89 cents change, I give\n",
      "3 quarters\n",
      "1 dimes\n",
      "4 pennies\n"
     ]
    }
   ],
   "source": [
    "def greedy2(total):\n",
    "    q=total//25 #If we do not use // and instead use /, we will get a decimal. We cannot have a part of a quarter, or for that matter, any other coinage.\n",
    "    t2=total%25 #To ensure that the total is not divided, we must make a new total. We could use the -= function, but it is simpler to make a new variable out of the remainder.\n",
    "    d=t2//10 #See the quarter notes for the next few lines.\n",
    "    t3=t2%10\n",
    "    n=t3//5\n",
    "    t4=t3%5\n",
    "    printcoins2(q, d, n, t4) #I don't need functions for pennies, for I would just be dividing by one and getting the same amount as t4. This will translate to p in the next function.\n",
    "def printcoins2(q, d, n, p):\n",
    "    c=(25*q)+(10*d)+(5*n)+p #See part 1 for the explanation. Here, I just add the \"if >0\" part to remove the 0 [coin] part.\n",
    "    print(\"For\", c, \"cents change, I give\")\n",
    "    if q > 0:\n",
    "        print(q, \"quarters\")\n",
    "    if d > 0:\n",
    "        print(d, \"dimes\")\n",
    "    if n > 0:\n",
    "        print(n, \"nickels\")\n",
    "    if p > 0:\n",
    "        print(p, \"pennies\")\n",
    "\n",
    "greedy2(89) #Example input"
   ]
  },
  {
   "cell_type": "code",
   "execution_count": 5,
   "metadata": {},
   "outputs": [
    {
     "name": "stdout",
     "output_type": "stream",
     "text": [
      "For 22 cents change, I give\n",
      "2 dimes\n",
      "2 pennies\n"
     ]
    }
   ],
   "source": [
    "import random #Importing random so I can get random.randint\n",
    "\n",
    "def guesscoin():\n",
    "    x=random.randint(1,4)\n",
    "    if x == 1:\n",
    "        return 25 #Returning the proper coinage amount.\n",
    "    if x == 2:\n",
    "        return 10\n",
    "    if x == 3:\n",
    "        return 5\n",
    "    if x == 4:\n",
    "        return 1\n",
    "    \n",
    "def chaos(total):\n",
    "    q=0\n",
    "    d=0\n",
    "    n=0\n",
    "    p=0\n",
    "    while total > 0: #It will be an infinite loop if it is while total >= 0.\n",
    "        x=guesscoin()\n",
    "        int(x) #Turning x into an integer so it can be used mathematically.\n",
    "        if total-x < 0: #To ensure that any \"wrong\" guesses (i.e. guesses that fit the total-x < 0 parameter) don't factor in.\n",
    "            total -= 0 #Generally, this is just so that there is not nothing to do.\n",
    "        elif x == 25: #I use == here because there are only 4 cases.\n",
    "            q += 1\n",
    "            total -= 25\n",
    "        elif x == 10:\n",
    "            d += 1\n",
    "            total -= 10\n",
    "        elif x == 5:\n",
    "            n += 1\n",
    "            total -= 5\n",
    "        else: #While I could do elif x == 1 here, all other cases will be x == 1.\n",
    "            p += 1\n",
    "            total -= 1\n",
    "    while p >= 5: #This is so that we can get the simplest amount of change.\n",
    "        n += 1\n",
    "        p -= 5\n",
    "    while n >= 2:\n",
    "        if d < 2: #This if/else function must be here, for nickels can be converted into quarters or nickels depending on the amount of dimes.\n",
    "            d += 1\n",
    "            n -= 2\n",
    "        else:\n",
    "            q += 1\n",
    "            d -= 2\n",
    "            n -= 1 #A dime function is not needed here becuase the dimes should have already been simplified here.\n",
    "    printcoins3(q, d, n, p)\n",
    "    \n",
    "def printcoins3(q, d, n, p):\n",
    "    c=(25*q)+(10*d)+(5*n)+p #see part 1 notes for here.\n",
    "    print(\"For\", c, \"cents change, I give\")\n",
    "    if q == 1:\n",
    "        print(q, \"quarter\") #This is just an expansion on Part 2's funciton, but with a special function for 1 [coin].\n",
    "    if q > 1:\n",
    "        print(q, \"quarters\")\n",
    "    if d == 1:\n",
    "        print(d, \"dime\")\n",
    "    if d > 1:\n",
    "        print(d, \"dimes\")\n",
    "    if n == 1:\n",
    "        print(n, \"nickel\")\n",
    "    if n > 1:\n",
    "        print(n, \"nickels\")\n",
    "    if p == 1:\n",
    "        print(p, \"penny\")\n",
    "    if p > 1:\n",
    "        print(p, \"pennies\")\n",
    "\n",
    "\n",
    "chaos(22) #Example input"
   ]
  },
  {
   "cell_type": "code",
   "execution_count": 8,
   "metadata": {},
   "outputs": [
    {
     "name": "stdout",
     "output_type": "stream",
     "text": [
      "For 60 cents change, I give\n",
      "2 quarters\n",
      "and 1 dime\n"
     ]
    }
   ],
   "source": [
    "def printcoins4(q, d, n, p): #Extra credit function. Any of these print functions can be used in any of these coin selection functions.\n",
    "    c=(25*q)+(10*d)+(5*n)+p #See Part 1\n",
    "    print(\"For\", c, \"cents change, I give\")\n",
    "    if q == 1: #Quarters do not need the \"and\" part because if they are the only one, there will be no need for an \"and\".\n",
    "        print(q, \"quarter\") #I'm also using the text of Part 3, as it is the most specific.\n",
    "    if q > 1:\n",
    "        print(q, \"quarters\")\n",
    "    if n == 0 and p == 0: #You have to have both because either one will be printed after the dime function.\n",
    "        if d == 1:\n",
    "            print(\"and\", d, \"dime\")\n",
    "        if d > 1:\n",
    "            print(\"and\", d, \"dimes\")\n",
    "    else: #Else because all other factors will make it not the last one.\n",
    "        if d == 1:\n",
    "            print(d, \"dime\")\n",
    "        if d > 1:\n",
    "            print(d, \"dimes\")\n",
    "    if p == 0: #Only p because pennies are the only one after it.\n",
    "        if n == 1:\n",
    "            print(\"and\", n, \"nickel\")\n",
    "        if n > 1:\n",
    "            print(\"and\", n, \"nickels\")\n",
    "    else:\n",
    "        if n == 1:\n",
    "            print(n, \"nickel\")\n",
    "        if n > 1:\n",
    "            print(n, \"nickels\")\n",
    "    if q == 0 and d == 0 and n == 0: #You need this here becfor the same reason the quarter does not have the \"and\".\n",
    "        if p == 1:\n",
    "            print(p, \"penny\")\n",
    "        if p > 1:\n",
    "            print(p, \"pennies\")\n",
    "    else: #However, since the penny is last, it will have the \"and\" if any other coinage is there.\n",
    "        if p == 1:\n",
    "            print(\"and\", p, \"penny\")\n",
    "        if p > 1:\n",
    "            print(\"and\", p, \"pennies\")  \n",
    "\n",
    "printcoins4(2, 1, 0, 0) #Example input"
   ]
  },
  {
   "cell_type": "code",
   "execution_count": null,
   "metadata": {},
   "outputs": [],
   "source": []
  }
 ],
 "metadata": {
  "kernelspec": {
   "display_name": "Python 3",
   "language": "python",
   "name": "python3"
  },
  "language_info": {
   "codemirror_mode": {
    "name": "ipython",
    "version": 3
   },
   "file_extension": ".py",
   "mimetype": "text/x-python",
   "name": "python",
   "nbconvert_exporter": "python",
   "pygments_lexer": "ipython3",
   "version": "3.8.3"
  }
 },
 "nbformat": 4,
 "nbformat_minor": 4
}
