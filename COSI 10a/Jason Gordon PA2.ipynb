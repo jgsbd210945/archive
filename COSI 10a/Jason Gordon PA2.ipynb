{
 "cells": [
  {
   "cell_type": "code",
   "execution_count": 7,
   "metadata": {},
   "outputs": [
    {
     "name": "stdout",
     "output_type": "stream",
     "text": [
      "| ---------------------------------------------------------- |\n",
      "|  *  *  *  *  *  *  ####################################### |\n",
      "|   *  *  *  *  *                                            |\n",
      "|  *  *  *  *  *  *                                          |\n",
      "|   *  *  *  *  *    ####################################### |\n",
      "|  *  *  *  *  *  *                                          |\n",
      "|   *  *  *  *  *                                            |\n",
      "|  *  *  *  *  *  *  ####################################### |\n",
      "|   *  *  *  *  *                                            |\n",
      "|  *  *  *  *  *  *                                          |\n",
      "| ########################################################## |\n",
      "|                                                            |\n",
      "|                                                            |\n",
      "| ########################################################## |\n",
      "|                                                            |\n",
      "|                                                            |\n",
      "| ########################################################## |\n",
      "|                                                            |\n",
      "|                                                            |\n",
      "| ########################################################## |\n",
      "| ---------------------------------------------------------- |\n"
     ]
    }
   ],
   "source": [
    "#Jason Gordon\n",
    "#PA2\n",
    "#COSI 10a\n",
    "#16 September 2020\n",
    "def topbottom():\n",
    "    print(\"| ---------------------------------------------------------- |\")\n",
    "#This is for the top and the bottom of the flag, of which there are two.\n",
    "\n",
    "def sixstarstripe():\n",
    "    print(\"|  *  *  *  *  *  *  ####################################### |\")\n",
    "#This is for the lines containing six stars and one stripe, of which there are also two.\n",
    "\n",
    "def fivestar():\n",
    "    print(\"|   *  *  *  *  *                                            |\")\n",
    "#This is for the lines containing five stars and nothing else, of which there are three.\n",
    "\n",
    "def sixstar():\n",
    "    print(\"|  *  *  *  *  *  *                                          |\")\n",
    "#This is for the lines containing six stars and nothing else, of which there are also three. \n",
    "\n",
    "def stripe():\n",
    "    print(\"| ########################################################## |\")\n",
    "#this is the function I will loop and use at the end.\n",
    "    \n",
    "def main(): #This will print the flag.\n",
    "    topbottom()\n",
    "    sixstarstripe()\n",
    "    fivestar()\n",
    "    sixstar()\n",
    "    print(\"|   *  *  *  *  *    ####################################### |\") #There is no function here, as there is only a single case.\n",
    "    sixstar()\n",
    "    fivestar()\n",
    "    sixstarstripe()\n",
    "    fivestar()\n",
    "    sixstar()\n",
    "    for x in range (1, 4): #This is the loopable function to print three stripe lines with spaces in between.\n",
    "        stripe()\n",
    "        print(\"|                                                            |\") #These would be part of the stripe() function, but I can use the stripe() function more without these included.\n",
    "        print(\"|                                                            |\")\n",
    "    stripe()\n",
    "    topbottom()\n",
    "\n",
    "main()"
   ]
  },
  {
   "cell_type": "code",
   "execution_count": null,
   "metadata": {},
   "outputs": [],
   "source": []
  }
 ],
 "metadata": {
  "kernelspec": {
   "display_name": "Python 3",
   "language": "python",
   "name": "python3"
  },
  "language_info": {
   "codemirror_mode": {
    "name": "ipython",
    "version": 3
   },
   "file_extension": ".py",
   "mimetype": "text/x-python",
   "name": "python",
   "nbconvert_exporter": "python",
   "pygments_lexer": "ipython3",
   "version": "3.8.3"
  }
 },
 "nbformat": 4,
 "nbformat_minor": 4
}
